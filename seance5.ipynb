{
  "nbformat": 4,
  "nbformat_minor": 0,
  "metadata": {
    "kernelspec": {
      "display_name": "Python 3",
      "language": "python",
      "name": "python3"
    },
    "language_info": {
      "codemirror_mode": {
        "name": "ipython",
        "version": 3
      },
      "file_extension": ".py",
      "mimetype": "text/x-python",
      "name": "python",
      "nbconvert_exporter": "python",
      "pygments_lexer": "ipython3",
      "version": "3.7.6"
    },
    "colab": {
      "name": "seance5.ipynb",
      "provenance": []
    }
  },
  "cells": [
    {
      "cell_type": "markdown",
      "metadata": {
        "id": "hxTqQTr16qru"
      },
      "source": [
        "Ex1:\n",
        "    \n",
        "1. Ecrire une fonction qui prend en entrée une fonction f et des réels a et h et donne en sortie le taux de variation (ou d'accroissement) de la fonction f entre le point d'abscisse a+h et a.\n",
        "2. Tester avec f(x)=3x^3+1x^2-5"
      ]
    },
    {
      "cell_type": "code",
      "metadata": {
        "id": "7H7wDhUM6qrv",
        "outputId": "4f2aacd7-b34a-40dd-dc67-df1956a1828a",
        "colab": {
          "base_uri": "https://localhost:8080/"
        }
      },
      "source": [
        "def fct(x) :\n",
        "  f=3*x**3+x**2-5\n",
        "  return f\n",
        "def main():\n",
        "  a = 1\n",
        "  h = 1\n",
        "  taux_acc = (fct(a)-fct(a+h))/(a-(a+h)) \n",
        "  print(taux_acc)\n",
        "main()"
      ],
      "execution_count": 13,
      "outputs": [
        {
          "output_type": "stream",
          "text": [
            "24.0\n"
          ],
          "name": "stdout"
        }
      ]
    },
    {
      "cell_type": "markdown",
      "metadata": {
        "id": "TCvcpu6u6qry"
      },
      "source": [
        "Ex2:\n",
        "1. Ecrire une fonction qui calcule la liste des coefficients directeurs pour une fonction f définit sur I=[a;b] avec un pas \"p\"\n",
        "2. Tester avec f(x)=(1+x)/(x-4) définit sur I=[0,1] avec un pas de 0.01"
      ]
    },
    {
      "cell_type": "code",
      "metadata": {
        "id": "Pl6wOJC16qrz",
        "outputId": "35dd26f1-cddc-45b9-ab06-f6dcdd570a27",
        "colab": {
          "base_uri": "https://localhost:8080/"
        }
      },
      "source": [
        "def fct(x) :\n",
        "  f=(1+x)/(x-4)\n",
        "  return f\n",
        "def coeff_dir(f,a,b,p):\n",
        "  coeff = []\n",
        "  i =a\n",
        "  while i < b :\n",
        "    coeff.append(fct(i))\n",
        "    i+=p\n",
        "  return coeff\n",
        "\n",
        "coeff_dir(fct,0,1,0.01)\n"
      ],
      "execution_count": 15,
      "outputs": [
        {
          "output_type": "execute_result",
          "data": {
            "text/plain": [
              "[-0.25,\n",
              " -0.2531328320802005,\n",
              " -0.2562814070351759,\n",
              " -0.2594458438287154,\n",
              " -0.26262626262626265,\n",
              " -0.26582278481012656,\n",
              " -0.2690355329949239,\n",
              " -0.272264631043257,\n",
              " -0.2755102040816327,\n",
              " -0.27877237851662406,\n",
              " -0.2820512820512821,\n",
              " -0.2853470437017994,\n",
              " -0.28865979381443296,\n",
              " -0.2919896640826873,\n",
              " -0.29533678756476683,\n",
              " -0.2987012987012987,\n",
              " -0.3020833333333333,\n",
              " -0.3054830287206266,\n",
              " -0.3089005235602094,\n",
              " -0.3123359580052493,\n",
              " -0.3157894736842105,\n",
              " -0.31926121372031663,\n",
              " -0.32275132275132273,\n",
              " -0.32625994694960214,\n",
              " -0.3297872340425532,\n",
              " -0.3333333333333333,\n",
              " -0.33689839572192515,\n",
              " -0.34048257372654156,\n",
              " -0.34408602150537637,\n",
              " -0.3477088948787062,\n",
              " -0.35135135135135137,\n",
              " -0.3550135501355014,\n",
              " -0.3586956521739131,\n",
              " -0.36239782016348776,\n",
              " -0.36612021857923505,\n",
              " -0.36986301369863017,\n",
              " -0.3736263736263737,\n",
              " -0.37741046831955927,\n",
              " -0.38121546961325975,\n",
              " -0.38504155124653744,\n",
              " -0.38888888888888895,\n",
              " -0.392757660167131,\n",
              " -0.3966480446927375,\n",
              " -0.40056022408963593,\n",
              " -0.404494382022472,\n",
              " -0.4084507042253522,\n",
              " -0.41242937853107353,\n",
              " -0.41643059490084994,\n",
              " -0.4204545454545456,\n",
              " -0.4245014245014246,\n",
              " -0.42857142857142866,\n",
              " -0.4326647564469915,\n",
              " -0.43678160919540243,\n",
              " -0.44092219020172924,\n",
              " -0.4450867052023122,\n",
              " -0.4492753623188407,\n",
              " -0.4534883720930234,\n",
              " -0.457725947521866,\n",
              " -0.46198830409356734,\n",
              " -0.46627565982404706,\n",
              " -0.4705882352941178,\n",
              " -0.4749262536873158,\n",
              " -0.4792899408284025,\n",
              " -0.4836795252225521,\n",
              " -0.4880952380952383,\n",
              " -0.49253731343283597,\n",
              " -0.49700598802395224,\n",
              " -0.5015015015015016,\n",
              " -0.5060240963855424,\n",
              " -0.5105740181268884,\n",
              " -0.5151515151515152,\n",
              " -0.5197568389057753,\n",
              " -0.5243902439024393,\n",
              " -0.5290519877675843,\n",
              " -0.5337423312883437,\n",
              " -0.5384615384615387,\n",
              " -0.5432098765432102,\n",
              " -0.5479876160990714,\n",
              " -0.5527950310559008,\n",
              " -0.5576323987538944,\n",
              " -0.5625000000000003,\n",
              " -0.5673981191222573,\n",
              " -0.5723270440251574,\n",
              " -0.5772870662460571,\n",
              " -0.5822784810126586,\n",
              " -0.5873015873015875,\n",
              " -0.5923566878980894,\n",
              " -0.5974440894568693,\n",
              " -0.6025641025641029,\n",
              " -0.6077170418006433,\n",
              " -0.6129032258064518,\n",
              " -0.6181229773462786,\n",
              " -0.6233766233766237,\n",
              " -0.6286644951140068,\n",
              " -0.6339869281045755,\n",
              " -0.6393442622950823,\n",
              " -0.6447368421052635,\n",
              " -0.6501650165016505,\n",
              " -0.655629139072848,\n",
              " -0.6611295681063126]"
            ]
          },
          "metadata": {
            "tags": []
          },
          "execution_count": 15
        }
      ]
    },
    {
      "cell_type": "markdown",
      "metadata": {
        "id": "EVKW_HpE6qr1"
      },
      "source": [
        "Ex3:\n",
        "on considère une suite U définie par Un+1=Un+n+1 et de premier terme U0. Ecrire une fonction qui prend en entrée les valeurs de n et U0 et affiche la valeur de Un.\n",
        "1. De facon iterative\n",
        "2. Par recurence"
      ]
    },
    {
      "cell_type": "code",
      "metadata": {
        "id": "s8H-BGaC6qr2",
        "outputId": "f930b039-e264-40e3-a319-bb7ce1ef1a67",
        "colab": {
          "base_uri": "https://localhost:8080/"
        }
      },
      "source": [
        "def suite_iter(n, u0):\n",
        "  sui = [u0]\n",
        "  i =0\n",
        "  while i <n+1 :\n",
        "    sui.append(sui[i]+n+1)\n",
        "    i+=1\n",
        "  return sui\n",
        "\n",
        "print(suite_iter(10,2))"
      ],
      "execution_count": 41,
      "outputs": [
        {
          "output_type": "stream",
          "text": [
            "[2, 13, 24, 35, 46, 57, 68, 79, 90, 101, 112, 123]\n"
          ],
          "name": "stdout"
        }
      ]
    },
    {
      "cell_type": "markdown",
      "metadata": {
        "id": "SANJMK0Z6qr4"
      },
      "source": [
        "Ex4:\n",
        "On pose Tn=n^2−(n−1)^2 ainsi que Sn=T1+T2+T3+...+Tn.\n",
        "1. Etant donné n, afficher la valeur de Sn."
      ]
    },
    {
      "cell_type": "code",
      "metadata": {
        "id": "Up8WqXjL6qr5"
      },
      "source": [
        ""
      ],
      "execution_count": null,
      "outputs": []
    },
    {
      "cell_type": "markdown",
      "metadata": {
        "id": "AAT4bxq16qr7"
      },
      "source": [
        "Ex5:\n",
        "Soit la suite définie par Un+1=0.5.Un et de premier terme U0. Plus la valeur de n augmente, plus les valeurs de Un se rapprochent de 0.\n",
        "\n",
        "Ecrire une fonction qui permet de déterminer pour un réel positif e donné, quel est le plus petit entier n tel que la valeur de Un soit inférieure à e.\n"
      ]
    },
    {
      "cell_type": "code",
      "metadata": {
        "id": "DK34uSaf6qr7"
      },
      "source": [
        ""
      ],
      "execution_count": null,
      "outputs": []
    },
    {
      "cell_type": "markdown",
      "metadata": {
        "id": "f5LXtrxZ6qr-"
      },
      "source": [
        "Ex6: Constante K de Catalan : https://fr.wikipedia.org/wiki/Constante_de_Catalan\n",
        "Ecrire une fonction qui permet de retourner une valeur approchée de la constante K et en s’arrêtant dès que la valeur absolue de la différence entre deux somme successives devienne inférieure ou égale à une erreur epsilon donnée en paramètre.\n",
        "\n"
      ]
    },
    {
      "cell_type": "code",
      "metadata": {
        "id": "Qxg85Q5P6qr_"
      },
      "source": [
        ""
      ],
      "execution_count": null,
      "outputs": []
    },
    {
      "cell_type": "markdown",
      "metadata": {
        "id": "Tl-GgURL6qsB"
      },
      "source": [
        "Ex 7:\n",
        "Ecrivez une fonction permettant de calculer la limite à epsilon près de la suite définie par la relation de récurrence :\n",
        "\n",
        "U0 =2\n",
        "Un+1= Un + 2/Un  , n>0.\n",
        "\n",
        "On arrête d’itérer quand l’intervalle entre 2 termes consécutifs devient strictement inférieur à epsilon."
      ]
    }
  ]
}